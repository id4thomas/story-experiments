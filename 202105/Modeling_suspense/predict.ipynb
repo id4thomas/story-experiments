{
 "metadata": {
  "language_info": {
   "codemirror_mode": {
    "name": "ipython",
    "version": 3
   },
   "file_extension": ".py",
   "mimetype": "text/x-python",
   "name": "python",
   "nbconvert_exporter": "python",
   "pygments_lexer": "ipython3",
   "version": "3.7.4"
  },
  "orig_nbformat": 4,
  "kernelspec": {
   "name": "python3",
   "display_name": "Python 3.7.4 64-bit ('suspense': conda)"
  },
  "interpreter": {
   "hash": "dc2996d4a91343822f8b1dd0f7b9014d9992374a2114aa93d99ac5358135453d"
  }
 },
 "nbformat": 4,
 "nbformat_minor": 2,
 "cells": [
  {
   "cell_type": "code",
   "execution_count": 1,
   "metadata": {},
   "outputs": [
    {
     "output_type": "stream",
     "name": "stderr",
     "text": [
      "[nltk_data] Downloading package vader_lexicon to\n[nltk_data]     /home/inglab/nltk_data...\n[nltk_data]   Package vader_lexicon is already up-to-date!\n"
     ]
    }
   ],
   "source": [
    "from story_untangling import *\n",
    "from story_untangling.dataset_readers.writing_prompts_whole_story import *\n",
    "from story_untangling.models.uncertain_reader import *\n",
    "\n",
    "from allennlp.models.model import Model\n",
    "from allennlp.common.params import Params\n",
    "from allennlp.data.iterators.data_iterator import DataIterator\n",
    "\n",
    "#Evaluate Command\n",
    "from allennlp.commands.evaluate import evaluate"
   ]
  },
  {
   "cell_type": "code",
   "execution_count": 2,
   "metadata": {},
   "outputs": [],
   "source": [
    "#Load Params\n",
    "serialization_dir=\"/home/inglab/syr/Story-Untangling/examples_models_and_data/\"\n",
    "\n",
    "#Model Config\n",
    "model_config = Params.from_file(os.path.join(serialization_dir, \"config.json\"), \"\")\n",
    "\n",
    "#Reader Config\n",
    "reader_config = Params.from_file(os.path.join(serialization_dir, \"reader.json\"), \"\")"
   ]
  },
  {
   "cell_type": "code",
   "execution_count": 3,
   "metadata": {},
   "outputs": [],
   "source": [
    "#Load model from Param\n",
    "model=Model.load(config=model_config,serialization_dir=serialization_dir, cuda_device=0)"
   ]
  },
  {
   "cell_type": "code",
   "execution_count": 4,
   "metadata": {},
   "outputs": [],
   "source": [
    "#Load Iterator\n",
    "iterator = DataIterator.from_params(model_config.pop(\"iterator\"))\n",
    "iterator.index_with(model._vocab)"
   ]
  },
  {
   "cell_type": "code",
   "execution_count": 5,
   "metadata": {},
   "outputs": [],
   "source": [
    "#Load Reader\n",
    "test_reader=WritingPromptsWholeStoryDatasetReader.from_params(reader_config)"
   ]
  },
  {
   "cell_type": "code",
   "execution_count": 6,
   "metadata": {},
   "outputs": [],
   "source": [
    "#Read TRIPOD test samples\n",
    "test=test_reader.read('/home/inglab/syr/tripod_test.txt')"
   ]
  },
  {
   "cell_type": "code",
   "execution_count": 7,
   "metadata": {
    "tags": [
     "outputPrepend"
    ]
   },
   "outputs": [
    {
     "output_type": "stream",
     "name": "stderr",
     "text": [
      ", who, now, has, the, gun, ,, begs, the, two, intruders, over, the, PA, system, to, give,\n",
      "\t\tSarah, the, injection, .]\n",
      " \t\tand TokenIndexers : {'openai_transformer': 'OpenaiTransformerBytePairIndexer'}\n",
      "Sentence Field TextField of length 25 with text: \n",
      " \t\t[After, some, time, Burnham, ,, who, has, shown, no, interest, in, hurting, either, Meg, or, Sarah,\n",
      "\t\tthroughout, the, film, ,, gives, Sarah, the, injection, .]\n",
      " \t\tand TokenIndexers : {'openai_transformer': 'OpenaiTransformerBytePairIndexer'}\n",
      "Sentence Field TextField of length 31 with text: \n",
      " \t\t[While, doing, so, ,, he, tells, Sarah, he, did, not, want, this, ,, and, the, only, reason, he,\n",
      "\t\tagreed, to, participate, was, to, give, his, own, child, a, better, life, .]\n",
      " \t\tand TokenIndexers : {'openai_transformer': 'OpenaiTransformerBytePairIndexer'}\n",
      "Sentence Field TextField of length 19 with text: \n",
      " \t\t[After, Burnham, gives, Sarah, the, injection, ,, Sarah, thanks, him, and, tells, Meg, that, Sarah,\n",
      "\t\tis, now, alright, .]\n",
      " \t\tand TokenIndexers : {'openai_transformer': 'OpenaiTransformerBytePairIndexer'}\n",
      "Sentence Field TextField of length 21 with text: \n",
      " \t\t[Having, earlier, received, a, call, from, Stephen, ,, two, policemen, arrive, ,, which, prompts,\n",
      "\t\tRaoul, to, threaten, Sarah, 's, life, .]\n",
      " \t\tand TokenIndexers : {'openai_transformer': 'OpenaiTransformerBytePairIndexer'}\n",
      "Sentence Field TextField of length 17 with text: \n",
      " \t\t[Sensing, the, potential, danger, to, her, daughter, ,, Meg, lies, to, the, officers, and, they,\n",
      "\t\tleave, .]\n",
      " \t\tand TokenIndexers : {'openai_transformer': 'OpenaiTransformerBytePairIndexer'}\n",
      "Sentence Field TextField of length 17 with text: \n",
      " \t\t[Meanwhile, ,, Burnham, opens, the, safe, and, removes, the, $, 22, million, in, bearer, bonds,\n",
      "\t\tinside, .]\n",
      " \t\tand TokenIndexers : {'openai_transformer': 'OpenaiTransformerBytePairIndexer'}\n",
      "Sentence Field TextField of length 23 with text: \n",
      " \t\t[As, the, robbers, attempt, to, leave, ,, using, Sarah, as, a, hostage, ,, Meg, hits, Raoul, with,\n",
      "\t\ta, sledgehammer, and, Burnham, flees, .]\n",
      " \t\tand TokenIndexers : {'openai_transformer': 'OpenaiTransformerBytePairIndexer'}\n",
      "Sentence Field TextField of length 50 with text: \n",
      " \t\t[After, a, badly, injured, Stephen, shoots, at, Raoul, and, misses, ,, Raoul, disables, him, and,\n",
      "\t\tprepares, to, kill, Meg, with, the, sledgehammer, ,, but, Burnham, ,, upon, hearing, Sarah, 's,\n",
      "\t\tscreams, of, pain, ,, returns, to, the, house, and, shoots, Raoul, dead, ,, stating, ,, \", You, 'll,\n",
      "\t\tbe, okay]\n",
      " \t\tand TokenIndexers : {'openai_transformer': 'OpenaiTransformerBytePairIndexer'}\n",
      "Sentence Field TextField of length 32 with text: \n",
      " \t\t[The, police, ,, alerted, by, Meg, 's, suspicious, behavior, earlier, ,, arrive, in, force, and,\n",
      "\t\tcapture, Burnham, ,, who, lets, the, bearer, bonds, go, ;, they, fly, away, with, the, wind, .]\n",
      " \t\tand TokenIndexers : {'openai_transformer': 'OpenaiTransformerBytePairIndexer'}\n",
      "Sentence Field TextField of length 22 with text: \n",
      " \t\t[Later, ,, Meg, and, Sarah, ,, having, recovered, from, their, harrowing, experience, ,, begin,\n",
      "\t\tsearching, the, newspaper, for, a, new, home, .]\n",
      " \t\tand TokenIndexers : {'openai_transformer': 'OpenaiTransformerBytePairIndexer'}\n",
      "31\n",
      "Extended [<allennlp.data.fields.text_field.TextField object at 0x7fd7bc2253d0>, <allennlp.data.fields.text_field.TextField object at 0x7fd7bc231fd0>, <allennlp.data.fields.text_field.TextField object at 0x7fd7bc231050>, <allennlp.data.fields.text_field.TextField object at 0x7fd7bc228cd0>, <allennlp.data.fields.text_field.TextField object at 0x7fd7bc278210>, <allennlp.data.fields.text_field.TextField object at 0x7fd7bae0a350>, <allennlp.data.fields.text_field.TextField object at 0x7fd7bc2319d0>, <allennlp.data.fields.text_field.TextField object at 0x7fd7bc228ed0>, <allennlp.data.fields.text_field.TextField object at 0x7fd7bc389e50>, <allennlp.data.fields.text_field.TextField object at 0x7fd7bc231f10>, <allennlp.data.fields.text_field.TextField object at 0x7fd7bc231ad0>, <allennlp.data.fields.text_field.TextField object at 0x7fd7bc278110>, <allennlp.data.fields.text_field.TextField object at 0x7fd7bc331f90>, <allennlp.data.fields.text_field.TextField object at 0x7fd7bc231c90>, <allennlp.data.fields.text_field.TextField object at 0x7fd7bc331850>, <allennlp.data.fields.text_field.TextField object at 0x7fd7bc225590>, <allennlp.data.fields.text_field.TextField object at 0x7fd7bc231f50>, <allennlp.data.fields.text_field.TextField object at 0x7fd7bc231a50>, <allennlp.data.fields.text_field.TextField object at 0x7fd7bc231dd0>, <allennlp.data.fields.text_field.TextField object at 0x7fd7bc278310>, <allennlp.data.fields.text_field.TextField object at 0x7fd7bc331f50>, <allennlp.data.fields.text_field.TextField object at 0x7fd7bc231e50>, <allennlp.data.fields.text_field.TextField object at 0x7fd7bc231ed0>, <allennlp.data.fields.text_field.TextField object at 0x7fd7bc231b90>, <allennlp.data.fields.text_field.TextField object at 0x7fd7bc231950>, <allennlp.data.fields.text_field.TextField object at 0x7fd7bc231d50>, <allennlp.data.fields.text_field.TextField object at 0x7fd7bc231e10>, <allennlp.data.fields.text_field.TextField object at 0x7fd7bc231c10>, <allennlp.data.fields.text_field.TextField object at 0x7fd7bc231a90>, <allennlp.data.fields.text_field.TextField object at 0x7fd7bc225190>, <allennlp.data.fields.text_field.TextField object at 0x7fd7bc231910>, <allennlp.data.fields.text_field.TextField object at 0x7fd7bc231d90>, <allennlp.data.fields.text_field.TextField object at 0x7fd7bc231d90>, <allennlp.data.fields.text_field.TextField object at 0x7fd7bc231d90>, <allennlp.data.fields.text_field.TextField object at 0x7fd7bc231d90>, <allennlp.data.fields.text_field.TextField object at 0x7fd7bc231d90>, <allennlp.data.fields.text_field.TextField object at 0x7fd7bc231d90>, <allennlp.data.fields.text_field.TextField object at 0x7fd7bc231d90>, <allennlp.data.fields.text_field.TextField object at 0x7fd7bc231d90>, <allennlp.data.fields.text_field.TextField object at 0x7fd7bc231d90>, <allennlp.data.fields.text_field.TextField object at 0x7fd7bc231d90>, <allennlp.data.fields.text_field.TextField object at 0x7fd7bc231d90>, <allennlp.data.fields.text_field.TextField object at 0x7fd7bc231d90>, <allennlp.data.fields.text_field.TextField object at 0x7fd7bc231d90>, <allennlp.data.fields.text_field.TextField object at 0x7fd7bc231d90>, <allennlp.data.fields.text_field.TextField object at 0x7fd7bc231d90>, <allennlp.data.fields.text_field.TextField object at 0x7fd7bc231d90>, <allennlp.data.fields.text_field.TextField object at 0x7fd7bc231d90>, <allennlp.data.fields.text_field.TextField object at 0x7fd7bc231d90>, <allennlp.data.fields.text_field.TextField object at 0x7fd7bc231d90>] 50\n",
      "\n",
      "Instance <class 'allennlp.data.instance.Instance'>\n",
      "Sentence Field TextField of length 21 with text: \n",
      " \t\t[In, 2084, ,, Douglas, Quaid, is, an, Earthbound, construction, worker, having, troubling, dreams,\n",
      "\t\tabout, Mars, and, a, mysterious, woman, there, .]\n",
      " \t\tand TokenIndexers : {'openai_transformer': 'OpenaiTransformerBytePairIndexer'}\n",
      "Sentence Field TextField of length 36 with text: \n",
      " \t\t[His, wife, Lori, dismisses, the, dreams, and, discourages, him, from, thinking, about, Mars, ,,\n",
      "\t\twhere, the, governor, ,, Vilos, Cohaagen, ,, is, fighting, rebels, while, searching, for, a,\n",
      "\t\trumored, alien, artifact, located, in, the, mines, .]\n",
      " \t\tand TokenIndexers : {'openai_transformer': 'OpenaiTransformerBytePairIndexer'}\n",
      "Sentence Field TextField of length 27 with text: \n",
      " \t\t[At, \", Rekall, \", ,, a, company, that, provides, memory, implants, of, vacation, ,, Quaid, opts,\n",
      "\t\tfor, a, memory, trip, to, Mars, as, a, secret, agent, .]\n",
      " \t\tand TokenIndexers : {'openai_transformer': 'OpenaiTransformerBytePairIndexer'}\n",
      "Sentence Field TextField of length 15 with text: \n",
      " \t\t[However, ,, during, the, procedure, ,, Quaid, violently, reacts, before, the, memory, is,\n",
      "\t\timplanted, .]\n",
      " \t\tand TokenIndexers : {'openai_transformer': 'OpenaiTransformerBytePairIndexer'}\n",
      "Sentence Field TextField of length 20 with text: \n",
      " \t\t[The, company, re, -, sedates, him, ,, wipes, his, memory, of, the, Rekall, visit, ,, and, sends,\n",
      "\t\thim, home, .]\n",
      " \t\tand TokenIndexers : {'openai_transformer': 'OpenaiTransformerBytePairIndexer'}\n",
      "Sentence Field TextField of length 20 with text: \n",
      " \t\t[On, the, way, home, ,, Quaid, is, attacked, by, his, co, -, workers, and, is, forced, to, kill,\n",
      "\t\tthem, .]\n",
      " \t\tand TokenIndexers : {'openai_transformer': 'OpenaiTransformerBytePairIndexer'}\n",
      "Sentence Field TextField of length 21 with text: \n",
      " \t\t[He, then, is, attacked, by, armed, thugs, led, by, Lori, and, Richter, ,, her, real, husband, and,\n",
      "\t\tCohaagen, 's, subordinate, .]\n",
      " \t\tand TokenIndexers : {'openai_transformer': 'OpenaiTransformerBytePairIndexer'}\n",
      "Sentence Field TextField of length 20 with text: \n",
      " \t\t[After, evading, his, attackers, ,, Quaid, is, given, a, suitcase, containing, money, ,, gadgets, ,,\n",
      "\t\tand, a, video, recording, .]\n",
      " \t\tand TokenIndexers : {'openai_transformer': 'OpenaiTransformerBytePairIndexer'}\n",
      "Sentence Field TextField of length 36 with text: \n",
      " \t\t[The, video, is, of, Quaid, ,, apparently, called, \", Hauser, \", ,, who, explains, that, he, used,\n",
      "\t\tto, work, for, Cohaagen, but, learned, about, the, artifact, ,, and, underwent, the, memory, wipe,\n",
      "\t\tto, protect, himself, .]\n",
      " \t\tand TokenIndexers : {'openai_transformer': 'OpenaiTransformerBytePairIndexer'}\n",
      "Sentence Field TextField of length 25 with text: \n",
      " \t\t[The, \", Hauser, \", instructs, Quaid, on, removing, a, tracking, device, ,, before, ordering, him,\n",
      "\t\tto, go, to, Mars, and, meet, \", Kuato, \", .]\n",
      " \t\tand TokenIndexers : {'openai_transformer': 'OpenaiTransformerBytePairIndexer'}\n",
      "Sentence Field TextField of length 29 with text: \n",
      " \t\t[Quaid, makes, his, way, to, Mars, and, follows, clues, to, Venusville, ,, the, colony, 's, red, -,\n",
      "\t\tlight, district, populated, by, a, people, mutated, by, poor, radiation, shielding, .]\n",
      " \t\tand TokenIndexers : {'openai_transformer': 'OpenaiTransformerBytePairIndexer'}\n",
      "Sentence Field TextField of length 23 with text: \n",
      " \t\t[He, meets, Melina, ,, the, woman, from, his, dreams, ,, but, she, spurns, him, ,, believing, that,\n",
      "\t\tQuaid, is, working, for, Cohaagen, .]\n",
      " \t\tand TokenIndexers : {'openai_transformer': 'OpenaiTransformerBytePairIndexer'}\n",
      "Sentence Field TextField of length 12 with text: \n",
      " \t\t[Quaid, later, encounters, Lori, and, Rekall, 's, President, ,, Dr., Edgemar, .]\n",
      " \t\tand TokenIndexers : {'openai_transformer': 'OpenaiTransformerBytePairIndexer'}\n",
      "Sentence Field TextField of length 23 with text: \n",
      " \t\t[Edgemar, insists, Quaid, is, living, out, the, implanted, memories, ,, and, offers, Quaid, a, pill,\n",
      "\t\tthat, would, wake, him, from, the, dream, .]\n",
      " \t\tand TokenIndexers : {'openai_transformer': 'OpenaiTransformerBytePairIndexer'}\n",
      "Sentence Field TextField of length 13 with text: \n",
      " \t\t[Quaid, however, sees, Edgemar, sweating, in, fear, ,, and, kills, him, instead, .]\n",
      " \t\tand TokenIndexers : {'openai_transformer': 'OpenaiTransformerBytePairIndexer'}\n",
      "Sentence Field TextField of length 18 with text: \n",
      " \t\t[Richter, 's, forces, capture, Quaid, ,, but, Melina, rescues, him, with, Quaid, killing, Lori, in,\n",
      "\t\tthe, process, .]\n",
      " \t\tand TokenIndexers : {'openai_transformer': 'OpenaiTransformerBytePairIndexer'}\n",
      "Sentence Field TextField of length 19 with text: \n",
      " \t\t[The, two, race, back, to, the, Venusville, bar, and, escape, into, the, tunnels, with, their, taxi,\n",
      "\t\tdriver, Benny, .]\n",
      " \t\tand TokenIndexers : {'openai_transformer': 'OpenaiTransformerBytePairIndexer'}\n",
      "Sentence Field TextField of length 18 with text: \n",
      " \t\t[Unable, to, locate, Quaid, ,, Cohaagen, shuts, down, the, ventilation, to, Venusville, ,, slowly,\n",
      "\t\tsuffocating, its, citizens, .]\n",
      " \t\tand TokenIndexers : {'openai_transformer': 'OpenaiTransformerBytePairIndexer'}\n",
      "Sentence Field TextField of length 30 with text: \n",
      " \t\t[Quaid, ,, Melina, ,, and, Benny, are, taken, to, a, resistance, base, ,, and, Quaid, is,\n",
      "\t\tintroduced, to, Kuato, ,, a, deformed, humanoid, conjoined, to, his, brother, 's, stomach, .]\n",
      " \t\tand TokenIndexers : {'openai_transformer': 'OpenaiTransformerBytePairIndexer'}\n",
      "Sentence Field TextField of length 34 with text: \n",
      " \t\t[Kuato, reads, Quaid, 's, mind, and, learns, that, the, artifact, is, a, turbinium, reactor, that,\n",
      "\t\twill, create, a, breathable, atmosphere, for, Mars, when, activated, ,, eliminating, Cohaagen, 's,\n",
      "\t\tabusive, monopoly, on, breathable, air, .]\n",
      " \t\tand TokenIndexers : {'openai_transformer': 'OpenaiTransformerBytePairIndexer'}\n",
      "Sentence Field TextField of length 28 with text: \n",
      " \t\t[Cohaagen, 's, forces, burst, in, ,, led, by, Benny, ,, and, kill, most, of, the, resistance, ,,\n",
      "\t\tincluding, Kuato, ,, who, instructs, Quaid, to, start, the, reactor, .]\n",
      " \t\tand TokenIndexers : {'openai_transformer': 'OpenaiTransformerBytePairIndexer'}\n",
      "Sentence Field TextField of length 34 with text: \n",
      " \t\t[Quaid, and, Melina, are, taken, to, Cohaagen, ,, who, reveals, the, Quaid, persona, was, a, ploy,\n",
      "\t\tby, Hauser, to, infiltrate, the, mutants, and, lead, Cohaagen, to, Kuato, ,, thereby, wiping, out,\n",
      "\t\tthe, resistance, .]\n",
      " \t\tand TokenIndexers : {'openai_transformer': 'OpenaiTransformerBytePairIndexer'}\n",
      "Sentence Field TextField of length 35 with text: \n",
      " \t\t[Cohaagen, orders, Hauser, 's, memory, to, be, reimplanted, in, Quaid, and, Melina, to, be,\n",
      "\t\tprogrammed, to, be, Hauser, 's, slave, ,, but, Quaid, and, Melina, escape, into, the, mines, where,\n",
      "\t\tthe, reactor, is, located, .]\n",
      " \t\tand TokenIndexers : {'openai_transformer': 'OpenaiTransformerBytePairIndexer'}\n",
      "Sentence Field TextField of length 24 with text: \n",
      " \t\t[They, work, their, way, to, the, control, room, of, the, reactor, ,, killing, Benny, ,, Richter, ,,\n",
      "\t\tand, the, rest, of, his, men, .]\n",
      " \t\tand TokenIndexers : {'openai_transformer': 'OpenaiTransformerBytePairIndexer'}\n",
      "Sentence Field TextField of length 18 with text: \n",
      " \t\t[While, running, away, in, the, reactor, ,, Cohaagen, confronts, them, in, the, control, room, with,\n",
      "\t\ta, bomb, .]\n",
      " \t\tand TokenIndexers : {'openai_transformer': 'OpenaiTransformerBytePairIndexer'}\n",
      "Sentence Field TextField of length 23 with text: \n",
      " \t\t[but, Quaid, accidentally, sets, it, off, ,, blowing, out, one, of, the, walls, of, the, control,\n",
      "\t\troom, ,, causing, an, explosive, decompression, .]\n",
      " \t\tand TokenIndexers : {'openai_transformer': 'OpenaiTransformerBytePairIndexer'}\n",
      "Sentence Field TextField of length 22 with text: \n",
      " \t\t[Quaid, grabs, on, the, wall, ,, but, knocks, Coohagen, out, ,, which, causes, him, to, land, on,\n",
      "\t\tthe, surface, of, Mars, .]\n",
      " \t\tand TokenIndexers : {'openai_transformer': 'OpenaiTransformerBytePairIndexer'}\n",
      "Sentence Field TextField of length 16 with text: \n",
      " \t\t[Due, to, the, low, atmospheric, pressure, ,, his, internal, fluids, boil, out, ,, killing, him, .]\n",
      " \t\tand TokenIndexers : {'openai_transformer': 'OpenaiTransformerBytePairIndexer'}\n",
      "Sentence Field TextField of length 15 with text: \n",
      " \t\t[Quaid, manages, to, activate, the, reactor, before, he, and, Melina, are, also, pulled, out, .]\n",
      " \t\tand TokenIndexers : {'openai_transformer': 'OpenaiTransformerBytePairIndexer'}\n",
      "Sentence Field TextField of length 19 with text: \n",
      " \t\t[The, reactor, releases, air, into, the, Martian, atmosphere, ,, saving, Quaid, ,, Melina, and, the,\n",
      "\t\tpopulation, of, Venusville, .]\n",
      " \t\tand TokenIndexers : {'openai_transformer': 'OpenaiTransformerBytePairIndexer'}\n",
      "Sentence Field TextField of length 33 with text: \n",
      " \t\t[As, humans, walk, onto, the, surface, of, the, planet, in, its, new, atmosphere, ,, Quaid, takes,\n",
      "\t\ta, moment, to, wonder, whether, he, is, still, living, the, memory, before, turning, to, kiss,\n",
      "\t\tMelina, .]\n",
      " \t\tand TokenIndexers : {'openai_transformer': 'OpenaiTransformerBytePairIndexer'}\n",
      "31\n",
      "Extended [<allennlp.data.fields.text_field.TextField object at 0x7fd7bc228c50>, <allennlp.data.fields.text_field.TextField object at 0x7fd7bc2315d0>, <allennlp.data.fields.text_field.TextField object at 0x7fd7bc228c90>, <allennlp.data.fields.text_field.TextField object at 0x7fd7bc2316d0>, <allennlp.data.fields.text_field.TextField object at 0x7fd7bc2318d0>, <allennlp.data.fields.text_field.TextField object at 0x7fd7bc231850>, <allennlp.data.fields.text_field.TextField object at 0x7fd7bc225650>, <allennlp.data.fields.text_field.TextField object at 0x7fd7bc231110>, <allennlp.data.fields.text_field.TextField object at 0x7fd7bc228bd0>, <allennlp.data.fields.text_field.TextField object at 0x7fd7bc231610>, <allennlp.data.fields.text_field.TextField object at 0x7fd7bc231510>, <allennlp.data.fields.text_field.TextField object at 0x7fd7bc228fd0>, <allennlp.data.fields.text_field.TextField object at 0x7fd7bc228e50>, <allennlp.data.fields.text_field.TextField object at 0x7fd7bc231890>, <allennlp.data.fields.text_field.TextField object at 0x7fd7bc228f10>, <allennlp.data.fields.text_field.TextField object at 0x7fd7bc2289d0>, <allennlp.data.fields.text_field.TextField object at 0x7fd7bc231550>, <allennlp.data.fields.text_field.TextField object at 0x7fd7bc228c10>, <allennlp.data.fields.text_field.TextField object at 0x7fd7bc231710>, <allennlp.data.fields.text_field.TextField object at 0x7fd7bc231090>, <allennlp.data.fields.text_field.TextField object at 0x7fd7bc231390>, <allennlp.data.fields.text_field.TextField object at 0x7fd7bc231310>, <allennlp.data.fields.text_field.TextField object at 0x7fd7bc231790>, <allennlp.data.fields.text_field.TextField object at 0x7fd7bc2317d0>, <allennlp.data.fields.text_field.TextField object at 0x7fd7bc231590>, <allennlp.data.fields.text_field.TextField object at 0x7fd7bc231750>, <allennlp.data.fields.text_field.TextField object at 0x7fd7bc0c2cd0>, <allennlp.data.fields.text_field.TextField object at 0x7fd7bc2311d0>, <allennlp.data.fields.text_field.TextField object at 0x7fd7bc231150>, <allennlp.data.fields.text_field.TextField object at 0x7fd7bc0c2c10>, <allennlp.data.fields.text_field.TextField object at 0x7fd7bc231350>, <allennlp.data.fields.text_field.TextField object at 0x7fd7bc231410>, <allennlp.data.fields.text_field.TextField object at 0x7fd7bc231410>, <allennlp.data.fields.text_field.TextField object at 0x7fd7bc231410>, <allennlp.data.fields.text_field.TextField object at 0x7fd7bc231410>, <allennlp.data.fields.text_field.TextField object at 0x7fd7bc231410>, <allennlp.data.fields.text_field.TextField object at 0x7fd7bc231410>, <allennlp.data.fields.text_field.TextField object at 0x7fd7bc231410>, <allennlp.data.fields.text_field.TextField object at 0x7fd7bc231410>, <allennlp.data.fields.text_field.TextField object at 0x7fd7bc231410>, <allennlp.data.fields.text_field.TextField object at 0x7fd7bc231410>, <allennlp.data.fields.text_field.TextField object at 0x7fd7bc231410>, <allennlp.data.fields.text_field.TextField object at 0x7fd7bc231410>, <allennlp.data.fields.text_field.TextField object at 0x7fd7bc231410>, <allennlp.data.fields.text_field.TextField object at 0x7fd7bc231410>, <allennlp.data.fields.text_field.TextField object at 0x7fd7bc231410>, <allennlp.data.fields.text_field.TextField object at 0x7fd7bc231410>, <allennlp.data.fields.text_field.TextField object at 0x7fd7bc231410>, <allennlp.data.fields.text_field.TextField object at 0x7fd7bc231410>, <allennlp.data.fields.text_field.TextField object at 0x7fd7bc231410>] 50\n",
      "\n",
      "Instance <class 'allennlp.data.instance.Instance'>\n",
      "Disgarded tokens, num 0: set()\n",
      "/pytorch/aten/src/ATen/native/cuda/LegacyDefinitions.cpp:67: UserWarning: masked_select received a mask with dtype torch.uint8, this behavior is now deprecated,please use a mask with dtype torch.bool instead.\n",
      "/pytorch/aten/src/ATen/native/cuda/LegacyDefinitions.cpp:67: UserWarning: masked_select received a mask with dtype torch.uint8, this behavior is now deprecated,please use a mask with dtype torch.bool instead.\n",
      "accuracy_combined: 0.34, disc_accuracy_1_1: 0.01, disc_accuracy_1_10: 0.04, disc_correct_dot_product_avg_1: -0.13, disc_correct_log_prob_avg_1: -4.69, disc_correct_prob_avg_1: 0.01, disc_correct_similarity_cosine_avg_1: -0.01, disc_correct_distance_l1_avg_1: 102.75, disc_correct_distance_l2_avg_1: 4.62, gen_accuracy_1: 0.56, gen_accuracy_10: 0.76, loss: 9.40 ||: 100%|██████████| 1/1 [00:02<00:00,  2.66s/it]\n"
     ]
    }
   ],
   "source": [
    "import nest_asyncio\n",
    "nest_asyncio.apply()\n",
    "\n",
    "#Run Evaluation Command\n",
    "test_metrics = evaluate(model, test, iterator, cuda_device=0, batch_weight_key=\"\")"
   ]
  },
  {
   "cell_type": "code",
   "execution_count": 8,
   "metadata": {},
   "outputs": [
    {
     "output_type": "stream",
     "name": "stdout",
     "text": [
      "{'accuracy_combined': 0.3434002633311389, 'disc_accuracy_1_1': 0.01020408163265306, 'disc_accuracy_1_10': 0.04081632653061224, 'disc_correct_dot_product_avg_1': -0.13210053741931915, 'disc_correct_log_prob_avg_1': -4.694386005401611, 'disc_correct_prob_avg_1': 0.009768911637365818, 'disc_correct_similarity_cosine_avg_1': -0.006183186080306768, 'disc_correct_distance_l1_avg_1': 102.74697875976562, 'disc_correct_distance_l2_avg_1': 4.623232841491699, 'gen_accuracy_1': 0.5648263027295285, 'gen_accuracy_10': 0.7577543424317618, 'loss': 9.404937744140625}\n"
     ]
    }
   ],
   "source": [
    "print(test_metrics)"
   ]
  }
 ]
}