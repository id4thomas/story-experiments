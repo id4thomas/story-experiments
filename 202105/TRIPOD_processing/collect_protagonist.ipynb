{
 "metadata": {
  "language_info": {
   "codemirror_mode": {
    "name": "ipython",
    "version": 3
   },
   "file_extension": ".py",
   "mimetype": "text/x-python",
   "name": "python",
   "nbconvert_exporter": "python",
   "pygments_lexer": "ipython3",
   "version": "3.8.8"
  },
  "orig_nbformat": 2,
  "kernelspec": {
   "name": "python388jvsc74a57bd0567044ed05e62161dfe0cb710af67030fb160bfc963689e449e07456aceefee8",
   "display_name": "Python 3.8.8 64-bit ('allennlp': conda)"
  }
 },
 "nbformat": 4,
 "nbformat_minor": 2,
 "cells": [
  {
   "cell_type": "code",
   "execution_count": 2,
   "metadata": {},
   "outputs": [],
   "source": [
    "import os\n",
    "import sys\n",
    "import argparse\n",
    "import torch\n",
    "import random\n",
    "import torch.nn.functional as F\n",
    "\n",
    "import numpy as np\n",
    "import pandas as pd"
   ]
  },
  {
   "cell_type": "code",
   "execution_count": 3,
   "metadata": {},
   "outputs": [
    {
     "output_type": "stream",
     "name": "stdout",
     "text": [
      "<bound method NDFrame.head of                 movie_name                                       synopsis_raw  \\\n0         Beloved (film)_1  Set shortly after the Civil War, the film revo...   \n1         Beloved (film)_0  Set shortly after the Civil War, the film revo...   \n2         Beloved (film)_2  Set shortly after the Civil War, the film revo...   \n3            Jaws (film)_0  A girl named Chrissie Watkins leaves a beach p...   \n4      Angel Eyes (film)_1  On a wet rainy night in Chicago, police office...   \n..                     ...                                                ...   \n123           Kalifornia_1  Brian Kessler (David Duchovny) is a graduate s...   \n124  Titanic (1997 film)_0  In 1996, treasure hunter Brock Lovett and his ...   \n125    Twins (1988 film)_2  Julius Benedict (Arnold Schwarzenegger) and Vi...   \n126    Twins (1988 film)_0  Julius Benedict (Arnold Schwarzenegger) and Vi...   \n127    Twins (1988 film)_1  Julius Benedict (Arnold Schwarzenegger) and Vi...   \n\n                                    synopsis_segmented  tp1  tp2  tp3  tp4  \\\n0    [STR_SENT] Set shortly after the Civil War, th...    5   22   28   33   \n1    [STR_SENT] Set shortly after the Civil War, th...    9   22   28   33   \n2    [STR_SENT] Set shortly after the Civil War, th...    5    8   28   33   \n3    [STR_SENT] A girl named Chrissie Watkins leave...    1    7   20   30   \n4    [STR_SENT] On a wet rainy night in Chicago, po...    4    7   20   30   \n..                                                 ...  ...  ...  ...  ...   \n123  [STR_SENT] Brian Kessler (David Duchovny) is a...    2   16   20   26   \n124  [STR_SENT] In 1996, treasure hunter Brock Love...    6   12   16   24   \n125  [STR_SENT] Julius Benedict (Arnold Schwarzeneg...    7   18   21   29   \n126  [STR_SENT] Julius Benedict (Arnold Schwarzeneg...    7   12   21   29   \n127  [STR_SENT] Julius Benedict (Arnold Schwarzeneg...    7   12   21   29   \n\n     tp5  \n0     37  \n1     37  \n2     37  \n3     38  \n4     38  \n..   ...  \n123   32  \n124   34  \n125   31  \n126   31  \n127   31  \n\n[128 rows x 8 columns]>\n"
     ]
    }
   ],
   "source": [
    "tripod_train=pd.read_csv('~/lab/TRIPOD/Synopses_and_annotations/TRIPOD_synopses_train.csv')\n",
    "tripod_test=pd.read_csv('~/lab/TRIPOD/Synopses_and_annotations/TRIPOD_synopses_test.csv')\n",
    "print(tripod_train.head)"
   ]
  },
  {
   "cell_type": "code",
   "execution_count": 4,
   "metadata": {},
   "outputs": [],
   "source": [
    "from coref_utils import *"
   ]
  },
  {
   "cell_type": "code",
   "execution_count": 5,
   "metadata": {},
   "outputs": [
    {
     "output_type": "stream",
     "name": "stderr",
     "text": [
      "Some weights of BertModel were not initialized from the model checkpoint at SpanBERT/spanbert-large-cased and are newly initialized: ['bert.pooler.dense.weight', 'bert.pooler.dense.bias']\nYou should probably TRAIN this model on a down-stream task to be able to use it for predictions and inference.\n"
     ]
    }
   ],
   "source": [
    "from allennlp.predictors.predictor import Predictor\n",
    "import allennlp_models.tagging\n",
    "coref_model = Predictor.from_path(\"https://storage.googleapis.com/allennlp-public-models/coref-spanbert-large-2021.03.10.tar.gz\")"
   ]
  },
  {
   "cell_type": "code",
   "execution_count": 6,
   "metadata": {},
   "outputs": [],
   "source": [
    "import allennlp_models.tagging\n",
    "\n",
    "srl_model = Predictor.from_path(\"https://storage.googleapis.com/allennlp-public-models/structured-prediction-srl-bert.2020.12.15.tar.gz\")"
   ]
  },
  {
   "cell_type": "code",
   "execution_count": 45,
   "metadata": {},
   "outputs": [],
   "source": [
    "def get_protagonist(coref_model,story):\n",
    "    coref_prediction=coref_model.predict(document=story)\n",
    "\n",
    "    ref_len=[len(ref) for ref in coref_prediction[\"clusters\"]]\n",
    "    print(max(ref_len))\n",
    "    sorted=np.argsort(np.array(ref_len))\n",
    "    print(sorted[-1])\n",
    "\n",
    "    #Tokenize Story\n",
    "    coref_tokenizer=coref_model._spacy\n",
    "    document=coref_tokenizer(story)\n",
    "    # tokenized = list(tok.text_with_ws for tok in document)\n",
    "    tokenized = list(tok.text for tok in document)\n",
    "\n",
    "    most_ref=coref_prediction[\"clusters\"][sorted[-1]][0]\n",
    "    print(tokenized[most_ref[0]:most_ref[1]+1])\n",
    "\n",
    "    return \" \".join(tokenized[most_ref[0]:most_ref[1]+1])"
   ]
  },
  {
   "cell_type": "code",
   "execution_count": 47,
   "metadata": {},
   "outputs": [],
   "source": [
    "import spacy\n",
    "from spacy.lang.en import English\n",
    "from nltk import tokenize\n",
    "#Regex\n",
    "import re\n",
    "def collect_protagonist_actions(story_df,coref_model,srl_model):\n",
    "    #Ignoring Verbs\n",
    "    skip_verbs=[\"is\", \"was\", \"were\",\n",
    "        \"are\", \"be\", \" ́s\", \" ́re\", \" ́ll\", \"can\", \"could\", \"must\", \"may\", \"have to\", \"has to\", \"had to\", \"will\", \"would\", \"has\",        \"have\", \"had\", \"do\", \"does\", \"did\"]\n",
    "\n",
    "    for idx in range(story_df.shape[0]):\n",
    "        story=story_df.iloc[-3]#[idx]\n",
    "        story_seg=story[\"synopsis_segmented\"]\n",
    "        story_split=story_seg.split(\" [END_SENT] \")\n",
    "        story_txt=\" \".join([sent[11:] for sent in story_split])\n",
    "\n",
    "        #Coref Resolve\n",
    "        story_protagonist=get_protagonist(coref_model,story_txt)\n",
    "\n",
    "        story_resolved=coref_model.coref_resolved(story_txt)\n",
    "\n",
    "        resolved_split=tokenize.sent_tokenize(story_resolved)\n",
    "        \n",
    "        print(\"Protagonist:\",story_protagonist)\n",
    "        \n",
    "        v_preds=[]\n",
    "        w_preds=[]\n",
    "        for sent in resolved_split:\n",
    "            print(sent)\n",
    "            srl_prediction=srl_model.predict(sent)\n",
    "            #Single Prediction has Multiple Frames\n",
    "            #Verb: verb, description, tags\n",
    "            v_preds.append(srl_prediction[\"verbs\"])\n",
    "            w_preds.append(srl_prediction[\"words\"])\n",
    "\n",
    "            #Get Protagonist action\n",
    "            for i in range(len(srl_prediction[\"verbs\"])):\n",
    "                frame_args={}\n",
    "                frame_verb=srl_prediction[\"verbs\"][i][\"verb\"]\n",
    "                print(\"\\nverb:\",frame_verb)\n",
    "                # print(srl_prediction[\"verbs\"][i][\"description\"])\n",
    "                # print(srl_prediction[\"verbs\"][i][\"tags\"])\n",
    "                if frame_verb in skip_verbs:\n",
    "                    continue\n",
    "                # args=re.search(r'\\[ARG(.*?)\\]',srl_prediction[\"verbs\"][i][\"description\"])\n",
    "                # args=re.search(r'\\[(.*?)\\]',srl_prediction[\"verbs\"][i][\"description\"])\n",
    "                args=re.findall(r'\\[ARG(.*?)\\]',srl_prediction[\"verbs\"][i][\"description\"])\n",
    "                if args is not None:\n",
    "                    for arg in args:\n",
    "                        print(arg)\n",
    "                        arg_parts=arg.split(\":\")\n",
    "                        \n",
    "                        print(arg_parts)\n",
    "                        if (story_protagonist in arg_parts[1]):\n",
    "                            print(\"Protagonist in\",arg_parts[1])\n",
    "                            arg_parts[1]=arg_parts[1].replace(story_protagonist,\"protagonist\")\n",
    "                        # elif (story_protagonist[:-1] in arg_parts[1]):\n",
    "                        #     print(\"Protagonist in\",arg_parts[1])\n",
    "                        #     arg_parts[1]=arg_parts[1].replace(story_protagonist[:-1],\"protagonist\")\n",
    "                        frame_args[arg_parts[0]]=arg_parts[1][1:]\n",
    "                # arg_dict=eval(\"{\"+\",\".join(frame_args)+\"}\")\n",
    "                print(frame_args)\n",
    "                    # print(args)\n",
    "                    # print(args.group(1))\n",
    "                # print(re.search(r'\\[(.*?)\\]',srl_prediction[\"verbs\"][i][\"description\"]).group(1))\n",
    "                # print(re.search(r'\\[ARG(.*?)\\]',srl_prediction[\"verbs\"][i][\"description\"]).group(1))\n",
    "            break\n",
    "        break\n",
    "\n",
    "    actions=[]\n",
    "\n",
    "    return actions"
   ]
  },
  {
   "cell_type": "code",
   "execution_count": 9,
   "metadata": {},
   "outputs": [
    {
     "output_type": "stream",
     "name": "stdout",
     "text": [
      "Sixty-year-old magnate Robert Miller manages a hedge fund with his daughter Brooke (Brit Marling) and is about to sell it for a handsome profit. However, unbeknownst to his daughter and most of his other employees, he has cooked his company's books in order to cover an investment loss and avoid being arrested for fraud. One night, while driving with his mistress Julie Cote (Laetitia Casta), he begins to doze off and crashes; Julie is killed. An injured Miller leaves the scene and decides to cover up his involvement to prevent the public, his wife Ellen (Susan Sarandon), and the prospective buyer James Mayfield (Graydon Carter) from discovering the truth. Miller calls Jimmy Grant (Nate Parker), a twenty-three-year-old man from Harlem with a criminal record whom he helped get off the street in the past, and whose father had been Miller's driver for many years. After being driven home by Grant, Miller drags his injured body into bed at 4:30 am, arousing suspicion in his wife. The next day, he is questioned by police detective Bryer (Tim Roth). Bryer is keen on arresting Miller for manslaughter and begins to put the pieces together. Brooke discovers the financial irregularities, realizes that she could be implicated and confronts her father. Jimmy is arrested and placed before a grand jury but still refuses to admit to helping Miller. Miller once again contemplates turning himself in. Even though Jimmy is about to go to prison, Miller tells Jimmy that investors are depending on him and that waiting for the sale to close before coming forward would serve the greater good. Eventually the sale is closed but Miller finds a way to avoid being charged. He proves that Detective Bryer fabricated evidence. The case against Jimmy is dismissed and the detective is ordered not to go near him. Miller's wife tries to blackmail him with a separation agreement getting rid of his wealth. When Robert Miller refuses to sign, his wife says that she will tell the police that he got into bed at 4:30 am on the night of the accident, bruised and bleeding. In the final scene, Miller addresses a banquet honoring him for his successful business, with his wife at his side and his daughter introducing him to the audience but their false embrace on the stage signifies that he has lost the respect and admiration of his daughter. It is kept deliberately ambiguous whether he gave in to his wife's blackmail or she had backed off; in any case, his financial and personal misdeeds were clearly kept out of the public gaze. [4][5] \n"
     ]
    }
   ],
   "source": [
    "diehard=tripod_test.iloc[-2]\n",
    "diehard_segtext=diehard[\"synopsis_segmented\"]\n",
    "# print(diehard_segtext)\n",
    "diehard_split=diehard_segtext.split(\" [END_SENT] \")\n",
    "\n",
    "sample=\" \".join([sent[11:] for sent in diehard_split])\n",
    "print(sample)"
   ]
  },
  {
   "cell_type": "code",
   "execution_count": 10,
   "metadata": {},
   "outputs": [
    {
     "output_type": "stream",
     "name": "stdout",
     "text": [
      "44\n0\n['Sixty', '-', 'year', '-', 'old ', 'magnate ', 'Robert ', 'Miller ']\n"
     ]
    },
    {
     "output_type": "execute_result",
     "data": {
      "text/plain": [
       "'Sixty - year - old  magnate  Robert  Miller '"
      ]
     },
     "metadata": {},
     "execution_count": 10
    }
   ],
   "source": [
    "get_protagonist(coref_model,sample)"
   ]
  },
  {
   "cell_type": "code",
   "execution_count": 11,
   "metadata": {},
   "outputs": [
    {
     "output_type": "stream",
     "name": "stdout",
     "text": [
      "Sixty-year-old magnate Robert Miller\nSixty - year - old magnate Robert Miller\n[0, 7]\nmatch: Match(a=0, b=0, size=8)\n[13, 13]\n[35, 35]\n[40, 40]\n[44, 44]\n[47, 47]\n[71, 71]\n[80, 80]\n[92, 94]\nmatch: Match(a=7, b=2, size=1)\n[103, 103]\n[110, 110]\n[133, 133]\nmatch: Match(a=0, b=0, size=1)\n[173, 174]\nmatch: Match(a=0, b=0, size=1)\n[187, 187]\nmatch: Match(a=0, b=0, size=1)\n[189, 189]\n[201, 201]\n[208, 208]\n[225, 225]\nmatch: Match(a=0, b=0, size=1)\n[250, 251]\nmatch: Match(a=0, b=0, size=0)\n[269, 269]\nmatch: Match(a=0, b=0, size=1)\n[271, 271]\nmatch: Match(a=0, b=0, size=1)\n[276, 276]\n[289, 289]\nmatch: Match(a=0, b=0, size=1)\n[297, 297]\n[321, 321]\nmatch: Match(a=0, b=0, size=1)\n[330, 330]\n[355, 356]\nmatch: Match(a=0, b=0, size=1)\n[361, 361]\n[369, 369]\n[373, 374]\nmatch: Match(a=0, b=1, size=1)\n[379, 379]\n[389, 389]\n[412, 412]\nmatch: Match(a=0, b=0, size=1)\n[417, 417]\n[419, 419]\n[424, 424]\n[427, 427]\n[430, 430]\n[433, 433]\n[446, 446]\n[454, 454]\n[463, 463]\n[467, 467]\n[481, 481]\na hedge fund\nhedge fund\n[9, 11]\nmatch: Match(a=0, b=0, size=2)\n[25, 25]\n[47, 49]\nmatch: Match(a=0, b=0, size=0)\nhis daughter Brooke (Brit Marling)\ndaughter Brooke ( Brit Marling )\n[13, 19]\nmatch: Match(a=0, b=0, size=6)\n[35, 36]\nmatch: Match(a=0, b=0, size=1)\n[236, 236]\nmatch: Match(a=0, b=0, size=0)\n[244, 244]\n[250, 250]\n[430, 431]\nmatch: Match(a=0, b=0, size=1)\n[454, 455]\nmatch: Match(a=0, b=0, size=1)\nhis mistress Julie Cote (Laetitia Casta)\nmistress Julie Cote ( Laetitia Casta )\n[71, 78]\nmatch: Match(a=0, b=0, size=7)\n[88, 88]\nmatch: Match(a=1, b=0, size=1)\nhe\nhe\n[158, 158]\n[185, 185]\nmatch: Match(a=0, b=0, size=0)\n[253, 253]\nmatch: Match(a=0, b=0, size=0)\n[281, 281]\nmatch: Match(a=0, b=0, size=0)\n[291, 291]\nmatch: Match(a=0, b=0, size=0)\n[341, 341]\nmatch: Match(a=0, b=0, size=0)\n[353, 353]\nhis wife Ellen (Susan Sarandon)\nwife Ellen ( Susan Sarandon )\n[110, 116]\nmatch: Match(a=0, b=0, size=6)\n[201, 202]\nmatch: Match(a=0, b=0, size=1)\n[355, 357]\nmatch: Match(a=0, b=2, size=1)\n[379, 380]\nmatch: Match(a=0, b=0, size=1)\n[383, 383]\n[424, 425]\nmatch: Match(a=0, b=0, size=1)\n[467, 469]\nmatch: Match(a=0, b=0, size=1)\n[472, 472]\npolice detective Bryer (Tim Roth)\npolice detective Bryer ( Tim Roth )\n[212, 218]\nmatch: Match(a=0, b=0, size=7)\n[220, 220]\nmatch: Match(a=2, b=0, size=1)\n[333, 334]\nmatch: Match(a=0, b=1, size=1)\n[345, 346]\nmatch: Match(a=0, b=0, size=0)\nsell\nsell\n[24, 24]\nmatch: Match(a=0, b=0, size=1)\n[302, 303]\nmatch: Match(a=0, b=0, size=0)\n[316, 317]\nmatch: Match(a=0, b=0, size=0)\ncrashes\ncrashes\n[86, 86]\nmatch: Match(a=0, b=0, size=1)\n[400, 401]\nmatch: Match(a=0, b=0, size=0)\n"
     ]
    }
   ],
   "source": [
    "characters=get_best_match(coref_model,coref_model.predict(document=sample),sample)"
   ]
  },
  {
   "cell_type": "code",
   "execution_count": 12,
   "metadata": {},
   "outputs": [
    {
     "output_type": "stream",
     "name": "stdout",
     "text": [
      "['Miller', 'hedge fund', 'daughter', 'Julie', 'wife', 'Bryer', 'sell', 'crashes']\n"
     ]
    }
   ],
   "source": [
    "print(characters)"
   ]
  },
  {
   "cell_type": "code",
   "execution_count": 48,
   "metadata": {
    "tags": []
   },
   "outputs": [
    {
     "output_type": "stream",
     "name": "stdout",
     "text": [
      "41\n",
      "0\n",
      "['New', 'York', 'City', 'Police', 'officer', 'John', 'McClane']\n",
      "Protagonist: New York City Police officer John McClane\n",
      "On Christmas Eve, New York City Police officer John McClane arrives in Los Angeles to reconcile with New York City Police officer John McClane's estranged wife, Holly Gennero.\n",
      "\n",
      "verb: arrives\n",
      "M-TMP: On Christmas Eve\n",
      "['M-TMP', ' On Christmas Eve']\n",
      "1: New York City Police officer John McClane\n",
      "['1', ' New York City Police officer John McClane']\n",
      "Protagonist in  New York City Police officer John McClane\n",
      "4: in Los Angeles\n",
      "['4', ' in Los Angeles']\n",
      "M-PRP: to reconcile with New York City Police officer John McClane 's estranged wife , Holly Gennero\n",
      "['M-PRP', \" to reconcile with New York City Police officer John McClane 's estranged wife , Holly Gennero\"]\n",
      "Protagonist in  to reconcile with New York City Police officer John McClane 's estranged wife , Holly Gennero\n",
      "{'M-TMP': 'On Christmas Eve', '1': 'protagonist', '4': 'in Los Angeles', 'M-PRP': \"to reconcile with protagonist 's estranged wife , Holly Gennero\"}\n",
      "\n",
      "verb: reconcile\n",
      "0: New York City Police officer John McClane\n",
      "['0', ' New York City Police officer John McClane']\n",
      "Protagonist in  New York City Police officer John McClane\n",
      "1: with New York City Police officer John McClane 's estranged wife , Holly Gennero\n",
      "['1', \" with New York City Police officer John McClane 's estranged wife , Holly Gennero\"]\n",
      "Protagonist in  with New York City Police officer John McClane 's estranged wife , Holly Gennero\n",
      "{'0': 'protagonist', '1': \"with protagonist 's estranged wife , Holly Gennero\"}\n"
     ]
    },
    {
     "output_type": "execute_result",
     "data": {
      "text/plain": [
       "[]"
      ]
     },
     "metadata": {},
     "execution_count": 48
    }
   ],
   "source": [
    "collect_protagonist_actions(tripod_test,coref_model,srl_model)"
   ]
  },
  {
   "cell_type": "code",
   "execution_count": null,
   "metadata": {},
   "outputs": [],
   "source": []
  }
 ]
}